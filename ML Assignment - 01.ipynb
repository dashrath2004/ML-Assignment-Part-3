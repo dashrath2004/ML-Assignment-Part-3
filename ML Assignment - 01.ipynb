{
 "cells": [
  {
   "cell_type": "markdown",
   "id": "cb2361f9-d748-4a8a-bc4a-6c0bbccc5cc4",
   "metadata": {},
   "source": [
    "Q1. Explain the following with an example :\n",
    " \n",
    "1. Artificial Intelligence\n",
    "2. Machine Learning\n",
    "3. Deep Learning"
   ]
  },
  {
   "cell_type": "markdown",
   "id": "9f031ac3-a88e-4d44-821e-491bc399a3da",
   "metadata": {},
   "source": [
    "ANS : \n",
    "1. Artificial intelligence (AI) is the broad field of study that aims to incorporate human intelligence to machines. AI can perform tasks such as reasoning, learning, planning, decision making etc.\n",
    "\n",
    "2. Machine learning (ML) is a subset of AI that gives computers the ability to learn without programming it. ML uses algorithms and data to train models that can make predictions or decisions based on new inputs.\n",
    "\n",
    "3. Deep learning (DL) is a subfield of ML that uses artificial neural networks to mimic the learning process of the human brain. DL can identify patterns within a structure and handle complex problems such as image recognition, natural language processing etc."
   ]
  },
  {
   "cell_type": "markdown",
   "id": "c90cfcaf-ce37-4b23-9486-2e55b7f2e67a",
   "metadata": {},
   "source": [
    "Q2. What is supervised learning? List some examples of supervised learning."
   ]
  },
  {
   "cell_type": "markdown",
   "id": "4f4d630c-b5e8-4c78-a78e-7c05a454447d",
   "metadata": {},
   "source": [
    "Supervised learning is a type of machine learning where the algorithm learns from labeled data.Some examples of supervised learning are:\n",
    "\n",
    "1. Image and speech recognition\n",
    "2. Recommendation systems\n",
    "3. Fraud detection\n",
    "4. Support Vector Machine (SVM)\n",
    "5. Nearest Neighbor"
   ]
  },
  {
   "cell_type": "markdown",
   "id": "66d86366-37e6-4b56-b7d2-6a2be6907fe5",
   "metadata": {},
   "source": [
    "Q3. What is unsupervised learning? List some examples of unsupervised learning."
   ]
  },
  {
   "cell_type": "markdown",
   "id": "2990b4f9-ace9-4a49-b5eb-704784ddca59",
   "metadata": {},
   "source": [
    "Unsupervised learning is a type of machine learning that does not require training data to be labeled. It is also called clustering. It can be used for finding previously unknown patterns in data.Examples of unsupervised learning are:\n",
    "\n",
    "1. Personalized recommendations based on user behavior or preferences\n",
    "2. Cybersecurity programs that detect anomalies or threats\n",
    "3. Customer segmentation for marketing purposes\n",
    "4. Speech recognition applications\n",
    "5. Hebbian learning in neural networks"
   ]
  },
  {
   "cell_type": "markdown",
   "id": "960649f4-4c9d-4548-9ac3-e82da1cc695e",
   "metadata": {},
   "source": [
    "Q4. What is difference between AI, ML, DI, & DS?"
   ]
  },
  {
   "cell_type": "markdown",
   "id": "40e1e5eb-a9c9-4d59-9611-0f058f26ed96",
   "metadata": {},
   "source": [
    "AI, ML, DI, and DS are related but distinct terms that stand for Artificial Intelligence, Machine Learning, Deep Learning, and Data Science respectively. Here is a brief summary of their differences:\n",
    "\n",
    "AI is a broad field that aims to create machines or systems that can perform tasks that normally require human intelligence, such as reasoning, decision making, natural language processing, computer vision, etc.\n",
    "\n",
    "ML is a subfield of AI that uses algorithms trained on data to produce adaptable models that can perform a variety of complex tasks. ML is an approach to achieve AI without writing millions of lines of code.\n",
    "\n",
    "DL is a subset of ML that uses several layers within neural networks to do some of the most complex ML tasks without any human intervention. DL is an approach to ML that claims to benefit it.\n",
    "\n",
    "DS is a combination of all the three along with statistics and domain knowledge. DS is the process of extracting insights from data using various tools and techniques such as data collection, cleaning, analysis, visualization, etc."
   ]
  },
  {
   "cell_type": "markdown",
   "id": "74445b36-e068-4dab-b216-5443d70a6086",
   "metadata": {},
   "source": [
    "Q5. What are the main differences between supervised, unsupervised & semi-supervised learning?"
   ]
  },
  {
   "cell_type": "markdown",
   "id": "c560fc9e-6a7a-43c5-9112-c7492fabe60f",
   "metadata": {},
   "source": [
    "Supervised, unsupervised, and semi-supervised learning are three types of machine learning that differ in how they use data to train models. Here is a brief summary of their differences:\n",
    "\n",
    "Supervised learning uses labeled data as input to the machine learning algorithm, which means that each data point has an output label associated with it. The goal of supervised learning is to predict outcomes for new data based on the learned relationship between the input and output. Supervised learning models are ideal for tasks such as spam detection, sentiment analysis, weather forecasting, etc.\n",
    "\n",
    "Unsupervised learning uses unlabeled data as input to the machine learning algorithm, which means that there is no output label for any data point. The goal of unsupervised learning is to discover patterns and features in the data without any guidance. Unsupervised learning models are ideal for tasks such as clustering, dimensionality reduction, anomaly detection, etc.\n",
    "\n",
    "Semi-supervised learning uses a combination of labeled and unlabeled data as input to the machine learning algorithm, which means that only a small amount of data has an output label. The goal of semi-supervised learning is to improve the performance of supervised learning models by using the unlabeled data to learn more about the data distribution. Semi-supervised learning models are ideal for tasks such as image classification, speech recognition, natural language processing, etc."
   ]
  },
  {
   "cell_type": "markdown",
   "id": "beb1f742-9ef6-4822-82a5-e4e31d36c5b1",
   "metadata": {},
   "source": [
    "Q6. What is train, test and validation split? Explain the importance of each term. "
   ]
  },
  {
   "cell_type": "markdown",
   "id": "15fe307b-eafc-4a03-8ee1-df6d4acd70f9",
   "metadata": {},
   "source": [
    "Train, test and validation split is a method of dividing a dataset into three parts for the purpose of training, evaluating and testing a machine learning model. The importance of each term is:\n",
    "\n",
    "Training set: This is the part of the data that the model learns from. It is used to adjust the model parameters and optimize the model performance. The training set should be large enough to capture the variability and complexity of the data, but not too large to cause overfitting or computational issues.\n",
    "\n",
    "Validation set: This is the part of the data that is used to tune the model hyperparameters and select the best model among different candidates. It is also used to check for overfitting or underfitting on the training set. The validation set should be representative of the data distribution and independent of the training set.\n",
    "\n",
    "Test set: This is the part of the data that is used to evaluate the final performance of the model on unseen data. It is also used to estimate the generalization error and compare different models. The test set should be held out until the end of the modeling process and only used once."
   ]
  },
  {
   "cell_type": "markdown",
   "id": "617d18e4-1d83-4627-bab0-74cad348bc28",
   "metadata": {},
   "source": [
    "Q7. How can unsupervised learning be used in anomaly detection?"
   ]
  },
  {
   "cell_type": "markdown",
   "id": "e9fed20e-8cdb-4498-9fca-6f501d28e6c3",
   "metadata": {},
   "source": [
    "Unsupervised learning is a branch of machine learning that does not require any labels or supervision for the data. It can be used in anomaly detection to identify rare or unusual patterns that deviate from the normal behavior of the data. Anomaly detection is useful for many applications, such as fraud detection, intrusion detection, fault detection, and health monitoring.\n",
    "\n",
    "There are different methods and algorithms for unsupervised anomaly detection, such as:\n",
    "\n",
    "Dimensionality reduction: This method reduces the number of features or dimensions of the data, while preserving the most important information. It can help to find anomalies by projecting the data into a lower-dimensional space, where normal and abnormal points can be more easily separated. Some examples of dimensionality reduction algorithms are Principal Component Analysis (PCA), Isomap, t-distributed Stochastic Neighbor Embedding (t-SNE), and Autoencoders.\n",
    "\n",
    "Density-based: This method assumes that normal data points are located in dense regions, while anomalies are in sparse regions. It can help to find anomalies by measuring the local density of each point and comparing it with a global or local threshold. Some examples of density-based algorithms are Local Outlier Factor (LOF), One-Class Support Vector Machines (OCSVM), and Isolation Forest.\n",
    "\n",
    "Clustering: This method groups similar data points into clusters, based on some distance or similarity measure. It can help to find anomalies by assigning each point to a cluster and detecting the points that are far from their cluster centers or belong to small or irregular clusters. Some examples of clustering algorithms are K-Means, DBSCAN, and Hierarchical Clustering3.\n",
    "These methods can be applied to different types of data, such as numerical, categorical, temporal, or spatial data. They can also be combined or modified to improve their performance or suit specific needs45. Unsupervised learning for anomaly detection is an active and challenging research area that aims to develop more efficient and robust algorithms for real-world problems."
   ]
  },
  {
   "cell_type": "markdown",
   "id": "735befe1-9466-4ebf-87a4-99bedbfe568b",
   "metadata": {},
   "source": [
    "Q8. List down some commonly used supervised learning algorithms and unsupervised learning\n",
    "algorithms."
   ]
  },
  {
   "cell_type": "markdown",
   "id": "366cf1ce-b72c-46a1-8390-77ddc7e9e066",
   "metadata": {},
   "source": [
    "Some commonly used supervised learning algorithms are:\n",
    "\n",
    "Linear regression: A regression algorithm that models the relationship between a continuous output variable and one or more continuous or categorical input variables. It can be used for tasks such as predicting house prices, sales, or salaries based on some features.\n",
    "\n",
    "Logistic regression: A classification algorithm that models the probability of a binary output variable (such as yes/no, true/false, 0/1) based on one or more input variables. It can be used for tasks such as spam detection, sentiment analysis, or medical diagnosis.\n",
    "\n",
    "Decision tree: A classification or regression algorithm that splits the input data into branches based on some criteria. Each branch represents a possible outcome or decision. It can be used for tasks such as customer segmentation, fraud detection, or stock prediction.\n",
    "\n",
    "Support vector machine: A classification or regression algorithm that finds the optimal hyperplane (a boundary line or surface) that separates the input data into different classes or predicts the output value. It can be used for tasks such as image recognition, text categorization, or face detection.\n",
    "\n",
    "K-nearest neighbors: A classification or regression algorithm that assigns the output value based on the majority vote or average of the k closest data points in the input space. It can be used for tasks such as recommendation systems, anomaly detection, or handwriting recognition.\n",
    "\n",
    "Some commonly used unsupervised learning algorithms are:\n",
    "\n",
    "K-means clustering: A clustering algorithm that partitions the input data into k groups based on the similarity of the data points. It can be used for tasks such as customer segmentation, image compression, or document clustering.\n",
    "\n",
    "Hierarchical clustering: A clustering algorithm that builds a hierarchy of clusters based on the distance or similarity between the data points. It can be used for tasks such as gene expression analysis, social network analysis, or taxonomy creation.\n",
    "\n",
    "Anomaly detection: An algorithm that identifies outliers or abnormal data points that deviate from the normal pattern of the data. It can be used for tasks such as fraud detection, network intrusion detection, or fault diagnosis.\n",
    "\n",
    "Principal component analysis: A dimensionality reduction algorithm that transforms the input data into a lower-dimensional space by finding the most important features or components that capture the maximum variance of the data. It can be used for tasks such as data visualization, feature extraction, or noise reduction."
   ]
  },
  {
   "cell_type": "markdown",
   "id": "60efb855-6f90-440e-b076-8413e6676414",
   "metadata": {},
   "source": []
  }
 ],
 "metadata": {
  "kernelspec": {
   "display_name": "Python 3 (ipykernel)",
   "language": "python",
   "name": "python3"
  },
  "language_info": {
   "codemirror_mode": {
    "name": "ipython",
    "version": 3
   },
   "file_extension": ".py",
   "mimetype": "text/x-python",
   "name": "python",
   "nbconvert_exporter": "python",
   "pygments_lexer": "ipython3",
   "version": "3.10.8"
  }
 },
 "nbformat": 4,
 "nbformat_minor": 5
}
