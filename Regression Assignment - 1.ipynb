{
 "cells": [
  {
   "cell_type": "markdown",
   "id": "f5578247-0c12-46e2-84dd-242448416a59",
   "metadata": {},
   "source": [
    "# 26th March Assignment"
   ]
  },
  {
   "cell_type": "code",
   "execution_count": null,
   "id": "4a00cefc-d415-4152-8d25-77c35cbc4171",
   "metadata": {},
   "outputs": [],
   "source": []
  },
  {
   "cell_type": "markdown",
   "id": "a292e4da-64a9-4d62-a6eb-93f281e7e93c",
   "metadata": {},
   "source": [
    "## Q1. Explain the difference between simple linear regression and multiple linear regression. Provide an example of each.\n"
   ]
  },
  {
   "cell_type": "markdown",
   "id": "499bb4cd-5c9f-4134-a5ca-8c63446c8028",
   "metadata": {},
   "source": [
    "1. Features :\n",
    "    \n",
    "- > Simple linear regression has only one independent feature and one dependent feature.\n",
    "\n",
    "- > On the other hand multiple linear regression have more than one independent feature and one dependent feature.\n",
    "\n",
    "2. Formula :\n",
    "    \n",
    "- > Simple linear regression : hθ(Xi) = θ0 + θ1X1\n",
    "\n",
    "- > Multiple linear regression : hθ(Xi) = θ0 + θ1X1 + θ2X2 + ... + θ2X2"
   ]
  },
  {
   "cell_type": "markdown",
   "id": "acbc0073-c239-476b-aa50-a2c3970f07a3",
   "metadata": {},
   "source": [
    "* Example \n",
    "\n",
    "- > Simple Linear Regression : Predicting weight on the basis of height.\n",
    "\n",
    "- > Multiple Linear Regression : House Price Prediction"
   ]
  },
  {
   "cell_type": "code",
   "execution_count": null,
   "id": "196d59f6-2150-4f32-8d07-e7f8c8418f4b",
   "metadata": {},
   "outputs": [],
   "source": []
  },
  {
   "cell_type": "markdown",
   "id": "8f0052ec-4c91-4d5d-9a82-717e3e3e339c",
   "metadata": {},
   "source": [
    "## Q2. Discuss the assumptions of linear regression. How can you check whether these assumptions hold in a given dataset?\n"
   ]
  },
  {
   "cell_type": "markdown",
   "id": "9b5eb323-ad60-42f9-bf6c-015aaddb1167",
   "metadata": {},
   "source": [
    "- > The independent and dependent feature should be linear to each other.\n",
    "\n",
    "- > This means that the value of the dependent variable for one observation should not be dependent on or influenced by the values of the dependent variable for other observations. \n",
    "\n",
    "- > In multiple linear regression the independent variables should not be highly correlated with each other. "
   ]
  },
  {
   "cell_type": "markdown",
   "id": "b3aba2ee-a2ff-49c8-87e1-b8108d6b839a",
   "metadata": {},
   "source": [
    "* How can you check whether these assumptions hold in a given dataset?¶"
   ]
  },
  {
   "cell_type": "markdown",
   "id": "52625a68-fd72-4816-bfec-625cdde62b6f",
   "metadata": {},
   "source": [
    "1. Scatterplots\n",
    "\n",
    "2. Statistical Tests\n",
    "\n",
    "3. Correlation Metrices"
   ]
  },
  {
   "cell_type": "code",
   "execution_count": null,
   "id": "f3da8731-7727-4381-9a6b-d166fbfb3480",
   "metadata": {},
   "outputs": [],
   "source": []
  },
  {
   "cell_type": "markdown",
   "id": "eacf65aa-4b0b-451d-9a63-029de1c94793",
   "metadata": {},
   "source": [
    "## Q3. How do you interpret the slope and intercept in a linear regression model? Provide an example using a real-world scenario.\n"
   ]
  },
  {
   "cell_type": "markdown",
   "id": "10a2729c-550d-42fb-9510-92f844ee1d22",
   "metadata": {},
   "source": [
    "* Intercept : Intercept is a point from where best fit line cross the vertical axis Y.Intercept defines the value of dependent feature when the value of indepentent   feature is zero.\n",
    "\n",
    "* Slope : Slope defines the coefficience,basically that indecates the movement of y variable on the basis of x variable."
   ]
  },
  {
   "cell_type": "markdown",
   "id": "b3895ee2-8ec9-4b1e-977e-d31136944ba8",
   "metadata": {},
   "source": [
    "* Example : Weight & Height\n",
    "\n",
    "Intercept : 0 (It represents the height when weight is zero.) \n",
    "\n",
    "Slope : 0.3 (It represents the increament in height every year.)\n",
    "\n",
    "* Linear Regression\n",
    "\n",
    "hθ(Xi) = θ0 + θ1X1\n",
    "\n",
    "       = 0 + 0.3(18)\n",
    "    \n",
    "       = 5.4\n",
    "        \n",
    "- > According to above prediction we can say that if someone's height increase 0.3 feet every year so his height at 18 will be 5.4 feet."
   ]
  },
  {
   "cell_type": "code",
   "execution_count": null,
   "id": "ab2eb684-23e5-4c8a-b18e-3c27ea10017e",
   "metadata": {},
   "outputs": [],
   "source": []
  },
  {
   "cell_type": "markdown",
   "id": "d4152d55-b825-4e24-8b41-20468985b7d2",
   "metadata": {},
   "source": [
    "## Q4. Explain the concept of gradient descent. How is it used in machine learning?"
   ]
  },
  {
   "cell_type": "markdown",
   "id": "163a1f3a-7359-4dab-839c-654e8b042d4e",
   "metadata": {},
   "source": [
    "- > Gradient descent is curve from where we can reach the global minima.\n",
    "\n",
    "- > Gradient descent plays main role to take decision of theta value.\n",
    "\n",
    "- > We have to draw tangent on curve and with the help of direction of tangent we can take descision whether we should increase the theta value of decrease."
   ]
  },
  {
   "cell_type": "markdown",
   "id": "9ff8af05-e22d-48ff-9444-592f48e3b2f6",
   "metadata": {},
   "source": [
    "* How is it used in machine learning?\n",
    "\n",
    "1. Define a cost function\n",
    "\n",
    "2. Calculate the Gradient\n",
    "\n",
    "3. Evaluate on Test Data"
   ]
  },
  {
   "cell_type": "code",
   "execution_count": null,
   "id": "b1027039-b9b3-4028-a89d-7e2b4dea51a8",
   "metadata": {},
   "outputs": [],
   "source": []
  },
  {
   "cell_type": "markdown",
   "id": "c85b01ad-8775-47f7-96ba-bb830be34fa8",
   "metadata": {},
   "source": [
    "## Q5. Describe the multiple linear regression model. How does it differ from simple linear regression?\n"
   ]
  },
  {
   "cell_type": "markdown",
   "id": "622ba71f-9947-40cd-ae26-6112a19ed8d6",
   "metadata": {},
   "source": [
    "- > A linear model that have multiple independent feature is called multiple linear regression model.\n",
    "​\n",
    "* Difference between Simple Linear Regression and Multiple Linear Regression\n",
    "​\n",
    "- > Simple linear regression has only one independent feature and one dependent feature, where multiple linear regression have more than one independent feature and one dependent feature.\n",
    "​\n",
    "- > Simple linear regression have only one theta value and multiple linear regression have multiple theta value.\n",
    "​\n",
    "- > We have to find best fit line in simple linear regression and on the other hand we have to find plan in the multiple linear regression.\n",
    "​\n",
    "- > Multiple linear regression is bit complex as compare to simple linear regression.\n",
    "​"
   ]
  },
  {
   "cell_type": "code",
   "execution_count": null,
   "id": "a70c22ed-aff4-4bc0-bec5-4102bbde3be7",
   "metadata": {},
   "outputs": [],
   "source": []
  },
  {
   "cell_type": "markdown",
   "id": "a9b73960-ef3a-4473-99f9-92119d64f030",
   "metadata": {},
   "source": [
    "## Q6. Explain the concept of multicollinearity in multiple linear regression. How can you detect and address this issue?\n"
   ]
  },
  {
   "cell_type": "markdown",
   "id": "f054dda1-c523-4a17-898b-3e46e7254bd7",
   "metadata": {},
   "source": [
    "- > The strong relationship between independet features is called multicollinearity.\n",
    "\n",
    "* How can you detect and address this issue?\n",
    "\n",
    "-> Python has an function named corr().\n",
    "\n",
    "- > With the help of this function we can get relationship between feature on the scale of 0 to 1.\n",
    "\n",
    "- > If any features have relation equal or above 90 indecates the strong relationship."
   ]
  },
  {
   "cell_type": "code",
   "execution_count": null,
   "id": "1d89ecf6-bd22-448c-af62-6149e69a2514",
   "metadata": {},
   "outputs": [],
   "source": []
  },
  {
   "cell_type": "markdown",
   "id": "d7629111-4be0-4983-8003-e6142b329fd8",
   "metadata": {},
   "source": [
    "## Q7. Describe the polynomial regression model. How is it different from linear regression?"
   ]
  },
  {
   "cell_type": "markdown",
   "id": "4e495ad0-9b16-46e8-9eff-d1614a23009f",
   "metadata": {},
   "source": [
    "- > Polynomial regression is an type of regression model.\n",
    "\n",
    "- > This model works on polynomial degree.\n",
    "\n",
    "- > It extends the concept of linear regression by allowing non-linear relationship between variables.\n",
    "\n",
    "* How is it different from linear regression?\n",
    "\n",
    "1. Linear Regression - It allows linear relationship.\n",
    "\n",
    "   Polynomial Regression - It allows non-linear relationship.\n",
    "   \n",
    "2. Linear Regression - It is simple to understand with simple line.\n",
    "\n",
    "   Polynomial Regression - It is complex to understand,especially when degree is high."
   ]
  },
  {
   "cell_type": "code",
   "execution_count": null,
   "id": "38bbfe68-6f4e-439a-bffc-84bef693e16b",
   "metadata": {},
   "outputs": [],
   "source": []
  },
  {
   "cell_type": "markdown",
   "id": "1826bdd0-c6fa-47dc-b1d4-fda377c50da9",
   "metadata": {},
   "source": [
    "## Q8. What are the advantages and disadvantages of polynomial regression compared to linear regression? In what situations would you prefer to use polynomial regression?\n"
   ]
  },
  {
   "cell_type": "markdown",
   "id": "1040bfc1-5602-4265-a596-0adb17c9d94e",
   "metadata": {},
   "source": [
    "* Advantages\n",
    "\n",
    "- > Polynomial regression is very important for non-linear relationship betweem variables.\n",
    "\n",
    "- > It is very flixible and easy to train complex model.\n",
    "\n",
    "* Disadvantages\n",
    "\n",
    "- > The significant drawback of polynomial regression is overfitting.\n",
    "\n",
    "- > Higher-degree polynomials introduce complexity into the model, making it harder to interpret. \n",
    "\n",
    "* In what situations would you prefer to use polynomial regression?\n",
    "\n",
    "- > Non-Linear Data Patterns: Use polynomial regression when you have evidence or domain knowledge indicating that the relationship between the independent and dependent variables is non-linear. If scatterplots suggest a curved pattern, polynomial regression may be appropriate.\n",
    "\n",
    "- > Interpolation: If you need to make predictions within the range of the observed data points, polynomial regression can be suitable for smoothly connecting the data points."
   ]
  },
  {
   "cell_type": "code",
   "execution_count": null,
   "id": "3c718c98-97f1-431f-ac7d-e256cf73bae7",
   "metadata": {},
   "outputs": [],
   "source": []
  }
 ],
 "metadata": {
  "kernelspec": {
   "display_name": "Python 3 (ipykernel)",
   "language": "python",
   "name": "python3"
  },
  "language_info": {
   "codemirror_mode": {
    "name": "ipython",
    "version": 3
   },
   "file_extension": ".py",
   "mimetype": "text/x-python",
   "name": "python",
   "nbconvert_exporter": "python",
   "pygments_lexer": "ipython3",
   "version": "3.10.8"
  }
 },
 "nbformat": 4,
 "nbformat_minor": 5
}
